{
 "cells": [
  {
   "cell_type": "code",
   "execution_count": 1,
   "metadata": {},
   "outputs": [],
   "source": [
    "import os\n",
    "import pandas as pd"
   ]
  },
  {
   "cell_type": "code",
   "execution_count": 2,
   "metadata": {},
   "outputs": [],
   "source": [
    "def years_to_filenames(years):\n",
    "    data_path = os.getcwd()\n",
    "    file_names = list(map(lambda x: (os.path.join(data_path, 'names', ('yob' + str(x) + '.txt'))), years))\n",
    "    return file_names"
   ]
  },
  {
   "cell_type": "code",
   "execution_count": 3,
   "metadata": {},
   "outputs": [],
   "source": [
    "def count_dynamics(*years):\n",
    "    # на входе мы получили список годов, сначала преобразуем его в список имен файлов\n",
    "    file_names = years_to_filenames(years)\n",
    "    \n",
    "    # считаем количество значений 'F' и 'M' в переданных данных\n",
    "    male_count = []\n",
    "    female_count = []\n",
    "    for file in file_names:\n",
    "        data = pd.read_csv(file, names=['Names', 'Gender', 'Count'])\n",
    "        male_count.append(data[data.Gender=='M'].Count.sum())\n",
    "        female_count.append(data[data.Gender=='F'].Count.sum())\n",
    "    # возвращаем словарь\n",
    "    return dict(M= male_count, F= female_count)"
   ]
  },
  {
   "cell_type": "code",
   "execution_count": 4,
   "metadata": {},
   "outputs": [
    {
     "data": {
      "text/plain": [
       "{'F': [299800, 1713151, 1815110], 'M': [150483, 1790549, 1962969]}"
      ]
     },
     "execution_count": 4,
     "metadata": {},
     "output_type": "execute_result"
    }
   ],
   "source": [
    "count_dynamics(1900, 1950, 2000)"
   ]
  }
 ],
 "metadata": {
  "kernelspec": {
   "display_name": "Python 3",
   "language": "python",
   "name": "python3"
  },
  "language_info": {
   "codemirror_mode": {
    "name": "ipython",
    "version": 3
   },
   "file_extension": ".py",
   "mimetype": "text/x-python",
   "name": "python",
   "nbconvert_exporter": "python",
   "pygments_lexer": "ipython3",
   "version": "3.6.4"
  }
 },
 "nbformat": 4,
 "nbformat_minor": 2
}
