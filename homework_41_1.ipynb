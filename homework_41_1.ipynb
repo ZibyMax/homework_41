{
 "cells": [
  {
   "cell_type": "code",
   "execution_count": 1,
   "metadata": {},
   "outputs": [],
   "source": [
    "import os\n",
    "import pandas as pd"
   ]
  },
  {
   "cell_type": "code",
   "execution_count": 2,
   "metadata": {},
   "outputs": [],
   "source": [
    "def years_to_filenames(years):\n",
    "    data_path = os.getcwd()\n",
    "    file_names = list(map(lambda x: (os.path.join(data_path, 'names', ('yob' + str(x) + '.txt'))), years))\n",
    "    return file_names"
   ]
  },
  {
   "cell_type": "code",
   "execution_count": 3,
   "metadata": {},
   "outputs": [],
   "source": [
    "def count_top3(*years):\n",
    "    # на входе мы получили список годов, сначала преобразуем его в список имен файлов\n",
    "    file_names = years_to_filenames(years)\n",
    "    \n",
    "    # создадим список из фреймов данных имен\n",
    "    data_list = []\n",
    "    for file in file_names:\n",
    "        data_list.append(pd.read_csv(file, names=['Names', 'Gender', 'Count']))\n",
    "    \n",
    "    # объединяем фреймы\n",
    "    data = pd.concat(data_list)\n",
    "    \n",
    "    # группируем по имени и суммируем\n",
    "    data = data.groupby('Names').sum()\n",
    "    \n",
    "    # сортируем по убыванию и возвращаем первые 3 строки    \n",
    "    data = data.sort_values('Count', ascending=False).head(3)\n",
    "    \n",
    "    # преобразуем 'Names' из индекса в данные\n",
    "    data = data.reset_index()\n",
    "    \n",
    "    # возврящаем список данных из колонки 'Names'\n",
    "    return list(data['Names'])\n",
    "    \n"
   ]
  },
  {
   "cell_type": "code",
   "execution_count": 6,
   "metadata": {},
   "outputs": [
    {
     "data": {
      "text/plain": [
       "['James', 'John', 'Robert']"
      ]
     },
     "execution_count": 6,
     "metadata": {},
     "output_type": "execute_result"
    }
   ],
   "source": [
    "count_top3(1900, 1950, 2000)"
   ]
  }
 ],
 "metadata": {
  "kernelspec": {
   "display_name": "Python 3",
   "language": "python",
   "name": "python3"
  },
  "language_info": {
   "codemirror_mode": {
    "name": "ipython",
    "version": 3
   },
   "file_extension": ".py",
   "mimetype": "text/x-python",
   "name": "python",
   "nbconvert_exporter": "python",
   "pygments_lexer": "ipython3",
   "version": "3.6.4"
  }
 },
 "nbformat": 4,
 "nbformat_minor": 2
}
